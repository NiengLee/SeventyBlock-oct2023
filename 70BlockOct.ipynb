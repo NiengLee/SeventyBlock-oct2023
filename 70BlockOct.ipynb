{
 "cells": [
  {
   "cell_type": "markdown",
   "metadata": {},
   "source": [
    "Análisis del rendimiento de toda la comunidad que hacen dropshipping con SeventyBlock:\n",
    "Para este análisis se desea determinar lo siguiente:\n",
    "\n",
    "1. todas las comisiones logísticas sean pagadas, e imprimir en un excel todas las ordenes que no hayan sido pagadas por comision\n",
    "2. todas las comisiones por referidos sean pagadas, e imprimir en un excel todas las ordenes que no hayan sido pagadas por comision\n",
    "\n"
   ]
  },
  {
   "cell_type": "code",
   "execution_count": null,
   "metadata": {},
   "outputs": [],
   "source": [
    "ruta1 = './admin orden por fila oct 2023.xlsx'\n",
    "ruta2 = './admin historial cartera Oct 2023.xlsx'\n",
    "ruta3 = './proveedor historial de cartera oct 2023.xlsx'"
   ]
  }
 ],
 "metadata": {
  "language_info": {
   "name": "python"
  }
 },
 "nbformat": 4,
 "nbformat_minor": 2
}
